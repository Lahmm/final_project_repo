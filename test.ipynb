{
 "cells": [
  {
   "cell_type": "code",
   "execution_count": 1,
   "metadata": {},
   "outputs": [],
   "source": [
    "import pandas as pd;\n",
    "import numpy as np;\n",
    "from sklearn.model_selection import train_test_split;\n",
    "from sklearn import metrics;\n",
    "from sklearn.tree import DecisionTreeClassifier;\n",
    "from sqlalchemy import create_engine\n",
    "from sklearn.preprocessing import StandardScaler;"
   ]
  },
  {
   "cell_type": "code",
   "execution_count": 2,
   "metadata": {},
   "outputs": [],
   "source": [
    "# con = create_engine('mysql+pymysql://root:@127.0.0.1:3306/LiuNian');\n",
    "# sql=\"select * from STATISTICAL_INFORMATION\";\n",
    "# df=pd.read_sql(sql,con);\n",
    "df = pd.read_csv('STATISTICAL_INFORMATION.csv')\n",
    "df[\"LABLE\"]=df[\"LABLE\"].astype(\"int\")\n",
    "cols=df.columns.tolist()\n",
    "del cols[0];\n",
    "del cols[-1];\n",
    "for col in cols:\n",
    "    df.loc[df[col]>df[col].mean()+3*df[col].std(),col] = df[col].mean();\n",
    "martix=np.array(df.values);\n",
    "scaler=StandardScaler(); #去均值和方差归一化\n",
    "X=scaler.fit_transform(martix[:,1:-1]);\n",
    "Y=martix[:,-1];\n",
    "Y=Y.astype(int)"
   ]
  },
  {
   "cell_type": "code",
   "execution_count": 3,
   "metadata": {},
   "outputs": [],
   "source": [
    "mean = np.mean(martix, axis=0)\n",
    "std = np.std(martix, axis=0)\n",
    "mean = np.delete(mean, 0)\n",
    "mean = np.delete(mean, -1)\n",
    "std = np.delete(std,0)\n",
    "std = np.delete(std,-1)"
   ]
  },
  {
   "cell_type": "code",
   "execution_count": 4,
   "metadata": {},
   "outputs": [
    {
     "name": "stdout",
     "output_type": "stream",
     "text": [
      "DecisionTree:\n",
      "accuracy: 0.8083676686115643\n",
      "F1 score: 0.8808991853710515\n",
      "G-Mean score: 0.8310159282812261\n"
     ]
    }
   ],
   "source": [
    "x_train,x_test,y_train,y_test=train_test_split(X,Y,test_size=0.3);  #样本占比0.3\n",
    "#x_train,y_train=DataPreprocess.overSampling(x_train,y_train);\n",
    "model = DecisionTreeClassifier(criterion=\"entropy\") #熵\n",
    "model.fit(x_train,y_train); #训练\n",
    "\n",
    "print(\"DecisionTree:\")\n",
    "y_pre=model.predict(x_test);    #测试 返回正确分类的比例\n",
    "print(\"accuracy:\",metrics.accuracy_score(y_pred=y_pre,y_true=y_test));  \n",
    "print(\"F1 score:\",metrics.f1_score(y_true=y_test,y_pred=y_pre,average=\"binary\"));\n",
    "#print(\"AUC score:\",metrics.roc_auc_score(y_true=y_test,y_score=y_pre));\n",
    "precision=metrics.precision_score(y_pred=y_pre,y_true=y_test,average=\"binary\");\n",
    "recal=metrics.recall_score(y_pred=y_pre,y_true=y_test,average=\"binary\");\n",
    "print(\"G-Mean score:\",recal*precision**0.5);"
   ]
  },
  {
   "cell_type": "code",
   "execution_count": 5,
   "metadata": {},
   "outputs": [
    {
     "data": {
      "text/plain": [
       "array([0])"
      ]
     },
     "execution_count": 5,
     "metadata": {},
     "output_type": "execute_result"
    }
   ],
   "source": [
    "test = np.array([87,29,107,0,0,66,25])\n",
    "test = (test - mean)/ std\n",
    "test = test.reshape(1, -1)\n",
    "model.predict(test)"
   ]
  },
  {
   "cell_type": "code",
   "execution_count": 6,
   "metadata": {},
   "outputs": [
    {
     "name": "stdout",
     "output_type": "stream",
     "text": [
      "AdaboostDecisionTree:\n",
      "accuracy: 0.8418825871747366\n",
      "F1 score: 0.903711437424222\n",
      "G-Mean score: 0.8726984722984619\n"
     ]
    }
   ],
   "source": [
    "from sklearn.ensemble import AdaBoostClassifier\n",
    "base_model = DecisionTreeClassifier(criterion=\"entropy\",max_depth=10);\n",
    "model=AdaBoostClassifier(base_estimator=base_model,n_estimators=50,learning_rate=0.5);\n",
    "model.fit(x_train,y_train);\n",
    "print(\"AdaboostDecisionTree:\")\n",
    "y_pre=model.predict(x_test);\n",
    "print(\"accuracy:\",metrics.accuracy_score(y_pred=y_pre,y_true=y_test));\n",
    "print(\"F1 score:\",metrics.f1_score(y_true=y_test,y_pred=y_pre,average=\"binary\"));\n",
    "#print(\"AUC score:\",metrics.roc_auc_score(y_true=y_test,y_score=y_pre));\n",
    "precision=metrics.precision_score(y_pred=y_pre,y_true=y_test,average=\"binary\");\n",
    "recal=metrics.recall_score(y_pred=y_pre,y_true=y_test,average=\"binary\");\n",
    "print(\"G-Mean score:\",recal*precision**0.5);"
   ]
  },
  {
   "cell_type": "code",
   "execution_count": 7,
   "metadata": {},
   "outputs": [
    {
     "data": {
      "text/plain": [
       "array([1])"
      ]
     },
     "execution_count": 7,
     "metadata": {},
     "output_type": "execute_result"
    }
   ],
   "source": [
    "test = np.array([0,0,0,0,0,0,0])\n",
    "test = (test - mean)/ std\n",
    "test = test.reshape(1, -1)\n",
    "model.predict(test)  # 1 翘课 0 学习"
   ]
  },
  {
   "cell_type": "code",
   "execution_count": null,
   "metadata": {},
   "outputs": [],
   "source": []
  }
 ],
 "metadata": {
  "kernelspec": {
   "display_name": "Python 3.8.5 ('base')",
   "language": "python",
   "name": "python3"
  },
  "language_info": {
   "codemirror_mode": {
    "name": "ipython",
    "version": 3
   },
   "file_extension": ".py",
   "mimetype": "text/x-python",
   "name": "python",
   "nbconvert_exporter": "python",
   "pygments_lexer": "ipython3",
   "version": "3.8.5"
  },
  "orig_nbformat": 4,
  "vscode": {
   "interpreter": {
    "hash": "f8b40d688a12481f01eadf7380c47edd8a49484a47dba3db091451640e880c68"
   }
  }
 },
 "nbformat": 4,
 "nbformat_minor": 2
}
